{
 "cells": [
  {
   "cell_type": "code",
   "execution_count": null,
   "metadata": {},
   "outputs": [],
   "source": [
    "# tamanho do pé de meninos e meninas da sala \n",
    "# hipotese nula : média do pé das meninas é igual a média dos pés dos meninos \n",
    "# hipotese minha : x \n",
    "# st.ttest_ind: retorna a estatistica e p valor "
   ]
  },
  {
   "cell_type": "code",
   "execution_count": 4,
   "metadata": {},
   "outputs": [
    {
     "ename": "ModuleNotFoundError",
     "evalue": "No module named 'scipy'",
     "output_type": "error",
     "traceback": [
      "\u001b[1;31m---------------------------------------------------------------------------\u001b[0m",
      "\u001b[1;31mModuleNotFoundError\u001b[0m                       Traceback (most recent call last)",
      "\u001b[1;32mc:\\Users\\Usuario\\Desktop\\aps6\\dados.ipynb Cell 2\u001b[0m line \u001b[0;36m1\n\u001b[1;32m----> <a href='vscode-notebook-cell:/c%3A/Users/Usuario/Desktop/aps6/dados.ipynb#W2sZmlsZQ%3D%3D?line=0'>1</a>\u001b[0m \u001b[39mimport\u001b[39;00m \u001b[39mscipy\u001b[39;00m\u001b[39m.\u001b[39;00m\u001b[39mstats\u001b[39;00m \u001b[39mas\u001b[39;00m \u001b[39mst\u001b[39;00m \n\u001b[0;32m      <a href='vscode-notebook-cell:/c%3A/Users/Usuario/Desktop/aps6/dados.ipynb#W2sZmlsZQ%3D%3D?line=1'>2</a>\u001b[0m \u001b[39mimport\u001b[39;00m \u001b[39mnumpy\u001b[39;00m \u001b[39mas\u001b[39;00m \u001b[39mnp\u001b[39;00m \n",
      "\u001b[1;31mModuleNotFoundError\u001b[0m: No module named 'scipy'"
     ]
    }
   ],
   "source": [
    "import scipy.stats as st \n",
    "import numpy as np "
   ]
  },
  {
   "cell_type": "code",
   "execution_count": 3,
   "metadata": {},
   "outputs": [
    {
     "ename": "NameError",
     "evalue": "name 'np' is not defined",
     "output_type": "error",
     "traceback": [
      "\u001b[1;31m---------------------------------------------------------------------------\u001b[0m",
      "\u001b[1;31mNameError\u001b[0m                                 Traceback (most recent call last)",
      "\u001b[1;32mc:\\Users\\Usuario\\Desktop\\aps6\\dados.ipynb Cell 3\u001b[0m line \u001b[0;36m4\n\u001b[0;32m      <a href='vscode-notebook-cell:/c%3A/Users/Usuario/Desktop/aps6/dados.ipynb#W1sZmlsZQ%3D%3D?line=0'>1</a>\u001b[0m pe_meninas \u001b[39m=\u001b[39m [\u001b[39m38\u001b[39m, \u001b[39m39\u001b[39m, \u001b[39m38\u001b[39m, \u001b[39m36\u001b[39m, \u001b[39m36\u001b[39m, \u001b[39m35\u001b[39m, \u001b[39m36\u001b[39m, \u001b[39m36\u001b[39m]\n\u001b[0;32m      <a href='vscode-notebook-cell:/c%3A/Users/Usuario/Desktop/aps6/dados.ipynb#W1sZmlsZQ%3D%3D?line=1'>2</a>\u001b[0m pe_meninos \u001b[39m=\u001b[39m [\u001b[39m42\u001b[39m, \u001b[39m41\u001b[39m, \u001b[39m41\u001b[39m, \u001b[39m41\u001b[39m, \u001b[39m41\u001b[39m, \u001b[39m42\u001b[39m, \u001b[39m43\u001b[39m, \u001b[39m40\u001b[39m]\n\u001b[1;32m----> <a href='vscode-notebook-cell:/c%3A/Users/Usuario/Desktop/aps6/dados.ipynb#W1sZmlsZQ%3D%3D?line=3'>4</a>\u001b[0m media_meninas \u001b[39m=\u001b[39m np\u001b[39m.\u001b[39mmean(pe_meninas)\n\u001b[0;32m      <a href='vscode-notebook-cell:/c%3A/Users/Usuario/Desktop/aps6/dados.ipynb#W1sZmlsZQ%3D%3D?line=4'>5</a>\u001b[0m media_meninos \u001b[39m=\u001b[39m np\u001b[39m.\u001b[39mmean(pe_meninos)\n\u001b[0;32m      <a href='vscode-notebook-cell:/c%3A/Users/Usuario/Desktop/aps6/dados.ipynb#W1sZmlsZQ%3D%3D?line=5'>6</a>\u001b[0m \u001b[39mprint\u001b[39m(media_meninas, media_meninos)\n",
      "\u001b[1;31mNameError\u001b[0m: name 'np' is not defined"
     ]
    }
   ],
   "source": [
    "pe_meninas = [38, 39, 38, 36, 36, 35, 36, 36]\n",
    "pe_meninos = [42, 41, 41, 41, 41, 42, 43, 40]\n",
    "\n",
    "media_meninas = np.mean(pe_meninas)\n",
    "media_meninos = np.mean(pe_meninos)\n",
    "print(media_meninas, media_meninos)"
   ]
  },
  {
   "cell_type": "code",
   "execution_count": null,
   "metadata": {},
   "outputs": [],
   "source": [
    "estatistica = st.ttest_ind(pe_meninas, pe_meninos)\n",
    "print(estatistica)"
   ]
  }
 ],
 "metadata": {
  "kernelspec": {
   "display_name": "Python 3",
   "language": "python",
   "name": "python3"
  },
  "language_info": {
   "codemirror_mode": {
    "name": "ipython",
    "version": 3
   },
   "file_extension": ".py",
   "mimetype": "text/x-python",
   "name": "python",
   "nbconvert_exporter": "python",
   "pygments_lexer": "ipython3",
   "version": "3.11.4"
  }
 },
 "nbformat": 4,
 "nbformat_minor": 2
}
